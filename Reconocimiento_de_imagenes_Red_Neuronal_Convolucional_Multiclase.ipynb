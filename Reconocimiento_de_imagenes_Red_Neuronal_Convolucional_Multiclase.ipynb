{
  "cells": [
    {
      "cell_type": "markdown",
      "metadata": {
        "id": "vE-75aRqiDhv"
      },
      "source": []
    },
    {
      "cell_type": "code",
      "execution_count": null,
      "metadata": {
        "id": "zWcBANF9xqyu"
      },
      "outputs": [],
      "source": [
        "#Carga de librerias\n",
        "from PIL import Image\n",
        "import os\n",
        "import numpy as np\n",
        "\n",
        "# Ruta a la carpeta que contiene las imágenes\n",
        "folder_path = ''\n",
        "\n",
        "# Lista para almacenar las imágenes cargadas\n",
        "image_list_train = []\n",
        "#Lista para almacenar las etiquetas\n",
        "y_train = []\n",
        "# Recorre todos los archivos en la carpeta\n",
        "for filename in os.listdir(folder_path):\n",
        "    if 'Clima' in filename:\n",
        "      y_train.append([1,0,0,0,0])\n",
        "    elif 'Persona' in filename:\n",
        "      y_train.append([0,1,0,0,0])\n",
        "    elif 'PistaDeAterrizaje' in filename:\n",
        "      y_train.append([0,0,1,0,0])\n",
        "    elif 'aeronave' in filename:\n",
        "      y_train.append([0,0,0,1,0])\n",
        "    elif 'Vehiculo' in filename:\n",
        "      y_train.append([0,0,0,0,1])\n",
        "    if filename.endswith(\".jpg\") or filename.endswith(\".jpeg\"):\n",
        "        img_path = os.path.join(folder_path, filename)\n",
        "        img = Image.open(img_path)\n",
        "        img = img.resize((300, 300))  # Redimensiona la imagen\n",
        "        img_array = np.array(img) / 255.0  # Normaliza los valores de píxeles\n",
        "        image_list_train.append(img_array)\n",
        "\n",
        "# Ahora 'image_list_train' contiene todas las imágenes cargadas\n"
      ]
    },
    {
      "cell_type": "code",
      "execution_count": null,
      "metadata": {
        "id": "FdIQoBTcx2pJ"
      },
      "outputs": [],
      "source": [
        "#Carga de librerias\n",
        "from PIL import Image\n",
        "import os\n",
        "import numpy as np\n",
        "\n",
        "# Ruta a la carpeta que contiene las imágenes\n",
        "folder_path = '/content/drive/MyDrive/MachineLearning/test'\n",
        "\n",
        "# Lista para almacenar las imágenes cargadas\n",
        "image_list_test = []\n",
        "#Lista para almacenar las etiquetas\n",
        "y_test = []\n",
        "# Recorre todos los archivos en la carpeta\n",
        "for filename in os.listdir(folder_path):\n",
        "    if 'Clima' in filename:\n",
        "      y_test.append([1,0,0,0,0])\n",
        "    elif 'Persona' in filename:\n",
        "      y_test.append([0,1,0,0,0])\n",
        "    elif 'PistaDeAterrizaje' in filename:\n",
        "      y_test.append([0,0,1,0,0])\n",
        "    elif 'aeronave' in filename:\n",
        "      y_test.append([0,0,0,1,0])\n",
        "    elif 'Vehiculo' in filename:\n",
        "      y_test.append([0,0,0,0,1])\n",
        "    if filename.endswith(\".jpg\") or filename.endswith(\".jpeg\") :\n",
        "        img_path = os.path.join(folder_path, filename)\n",
        "        img = Image.open(img_path)\n",
        "        img = img.resize((300, 300))  # Redimensiona la imagen\n",
        "        img_array = np.array(img) / 255.0  # Normaliza los valores de píxeles\n",
        "        image_list_test.append(img_array)\n",
        "\n",
        "# Ahora 'image_list_test' contiene todas las imágenes cargadas\n"
      ]
    },
    {
      "cell_type": "code",
      "execution_count": null,
      "metadata": {
        "colab": {
          "base_uri": "https://localhost:8080/"
        },
        "id": "zzOSJinE-mSe",
        "outputId": "3a54b999-ad48-4f0a-b4ca-9b06aee210c8"
      },
      "outputs": [
        {
          "data": {
            "text/plain": [
              "[[0, 1, 0, 0, 0],\n",
              " [0, 1, 0, 0, 0],\n",
              " [1, 0, 0, 0, 0],\n",
              " [1, 0, 0, 0, 0],\n",
              " [0, 0, 0, 1, 0],\n",
              " [0, 0, 1, 0, 0],\n",
              " [0, 0, 1, 0, 0],\n",
              " [0, 0, 0, 0, 1],\n",
              " [0, 0, 0, 0, 1],\n",
              " [0, 0, 0, 1, 0]]"
            ]
          },
          "execution_count": 80,
          "metadata": {},
          "output_type": "execute_result"
        }
      ],
      "source": [
        "y_test"
      ]
    },
    {
      "cell_type": "code",
      "execution_count": null,
      "metadata": {
        "colab": {
          "base_uri": "https://localhost:8080/"
        },
        "id": "LNJK4o1WEMoO",
        "outputId": "3ab70d55-7d63-46ee-a4dc-53ddffbbf5d3"
      },
      "outputs": [
        {
          "data": {
            "text/plain": [
              "list"
            ]
          },
          "execution_count": 81,
          "metadata": {},
          "output_type": "execute_result"
        }
      ],
      "source": [
        "type(y_train)"
      ]
    },
    {
      "cell_type": "code",
      "execution_count": null,
      "metadata": {
        "id": "RpmvTng_6LBl"
      },
      "outputs": [],
      "source": [
        "#Carga de librerias\n",
        "import tensorflow as tf\n",
        "import keras\n",
        "from keras import datasets, layers, models\n",
        "from keras.models import Sequential\n",
        "from keras.layers import Dense, Flatten\n",
        "keras.utils.set_random_seed(812)\n",
        "model = models.Sequential()\n",
        "tam_kernel1 = (3,3)\n",
        "model.add(layers.Conv2D(224, tam_kernel1, activation='relu', input_shape=(300, 300, 3)))\n",
        "tam_pooling1 = (2,2)\n",
        "model.add(layers.MaxPooling2D(tam_pooling1))\n",
        "tam_kernel2 = (3,3)\n",
        "model.add(layers.Conv2D(128, tam_kernel2, activation='relu'))\n",
        "tam_pooling2 = (2,2)\n",
        "model.add(layers.MaxPooling2D(tam_pooling2))\n",
        "tam_kernel3 = (3,3)\n",
        "model.add(layers.Conv2D(64, tam_kernel3, activation='relu'))\n",
        "tam_pooling3 = (2,2)\n",
        "model.add(layers.MaxPooling2D(tam_pooling3))\n",
        "tam_kernel4 = (3,3)"
      ]
    },
    {
      "cell_type": "code",
      "execution_count": null,
      "metadata": {
        "id": "GmvNlfm9aWjm"
      },
      "outputs": [],
      "source": [
        "model.add(layers.Flatten())\n",
        "model.add(layers.Dense(64, activation='relu'))\n",
        "model.add(layers.Dense(5,activation='softmax'))"
      ]
    },
    {
      "cell_type": "code",
      "execution_count": null,
      "metadata": {
        "id": "u19SSag11MwI"
      },
      "outputs": [],
      "source": [
        "#Se compila el modelo\n",
        "model.compile(optimizer='adam', loss='categorical_crossentropy', metrics=['accuracy'])"
      ]
    },
    {
      "cell_type": "code",
      "execution_count": null,
      "metadata": {
        "colab": {
          "base_uri": "https://localhost:8080/"
        },
        "id": "ZRrMbH02_AHZ",
        "outputId": "4a4a9ad0-f9db-4410-8512-0e5d19073316"
      },
      "outputs": [
        {
          "data": {
            "text/plain": [
              "[[1, 0, 0, 0, 0],\n",
              " [1, 0, 0, 0, 0],\n",
              " [1, 0, 0, 0, 0],\n",
              " [1, 0, 0, 0, 0],\n",
              " [0, 0, 0, 0, 1],\n",
              " [0, 0, 0, 0, 1],\n",
              " [0, 1, 0, 0, 0],\n",
              " [0, 0, 1, 0, 0],\n",
              " [0, 0, 1, 0, 0],\n",
              " [0, 0, 0, 0, 1],\n",
              " [0, 1, 0, 0, 0],\n",
              " [0, 0, 0, 1, 0],\n",
              " [0, 0, 0, 1, 0],\n",
              " [0, 0, 0, 1, 0],\n",
              " [0, 0, 0, 1, 0],\n",
              " [0, 1, 0, 0, 0],\n",
              " [0, 0, 1, 0, 0],\n",
              " [0, 1, 0, 0, 0],\n",
              " [0, 0, 0, 0, 1],\n",
              " [0, 0, 0, 1, 0],\n",
              " [0, 0, 0, 1, 0],\n",
              " [0, 0, 0, 0, 1],\n",
              " [0, 0, 1, 0, 0],\n",
              " [0, 1, 0, 0, 0],\n",
              " [1, 0, 0, 0, 0],\n",
              " [0, 0, 0, 0, 1],\n",
              " [0, 0, 0, 0, 1]]"
            ]
          },
          "execution_count": 85,
          "metadata": {},
          "output_type": "execute_result"
        }
      ],
      "source": [
        "#Verificamos la estructura de salida esperada para entrenamiento\n",
        "y_train"
      ]
    },
    {
      "cell_type": "code",
      "execution_count": null,
      "metadata": {
        "id": "oCmeZdqx13Ux"
      },
      "outputs": [],
      "source": [
        "#Cambiamos la forma\n",
        "image_list_train = np.array(image_list_train)\n",
        "y_train = np.array(y_train)"
      ]
    },
    {
      "cell_type": "code",
      "execution_count": null,
      "metadata": {
        "colab": {
          "base_uri": "https://localhost:8080/"
        },
        "id": "ycXQvZgaEl_i",
        "outputId": "976953f0-e714-42cb-f1fa-73b63e005821"
      },
      "outputs": [
        {
          "data": {
            "text/plain": [
              "(27, 5)"
            ]
          },
          "execution_count": 87,
          "metadata": {},
          "output_type": "execute_result"
        }
      ],
      "source": [
        "#Verificamos el cambio\n",
        "y_train.shape"
      ]
    },
    {
      "cell_type": "code",
      "execution_count": null,
      "metadata": {
        "colab": {
          "base_uri": "https://localhost:8080/"
        },
        "id": "ypEnF2amETTM",
        "outputId": "8703e2f5-7152-489b-9671-08559d2952cd"
      },
      "outputs": [
        {
          "data": {
            "text/plain": [
              "numpy.ndarray"
            ]
          },
          "execution_count": 88,
          "metadata": {},
          "output_type": "execute_result"
        }
      ],
      "source": [
        "type(y_train)"
      ]
    },
    {
      "cell_type": "code",
      "execution_count": null,
      "metadata": {
        "colab": {
          "base_uri": "https://localhost:8080/"
        },
        "id": "qQr61Xd6FXrD",
        "outputId": "71536fb0-a905-4dc5-8cc5-0b8b3e370b5d"
      },
      "outputs": [
        {
          "data": {
            "text/plain": [
              "(27, 300, 300, 3)"
            ]
          },
          "execution_count": 89,
          "metadata": {},
          "output_type": "execute_result"
        }
      ],
      "source": [
        "image_list_train.shape"
      ]
    },
    {
      "cell_type": "code",
      "execution_count": null,
      "metadata": {
        "colab": {
          "base_uri": "https://localhost:8080/"
        },
        "id": "HYn4V3TRyfWg",
        "outputId": "13d3fc3c-21ec-49e3-b54c-41915de984a8"
      },
      "outputs": [
        {
          "name": "stdout",
          "output_type": "stream",
          "text": [
            "Epoch 1/100\n",
            "2/2 [==============================] - 2s 180ms/step - loss: 4.5737 - accuracy: 0.0741\n",
            "Epoch 2/100\n",
            "2/2 [==============================] - 0s 140ms/step - loss: 1.6056 - accuracy: 0.1852\n",
            "Epoch 3/100\n",
            "2/2 [==============================] - 0s 134ms/step - loss: 1.6533 - accuracy: 0.3333\n",
            "Epoch 4/100\n",
            "2/2 [==============================] - 0s 130ms/step - loss: 1.5290 - accuracy: 0.2222\n",
            "Epoch 5/100\n",
            "2/2 [==============================] - 0s 170ms/step - loss: 1.5068 - accuracy: 0.2963\n",
            "Epoch 6/100\n",
            "2/2 [==============================] - 0s 141ms/step - loss: 1.3908 - accuracy: 0.3333\n",
            "Epoch 7/100\n",
            "2/2 [==============================] - 0s 135ms/step - loss: 1.3067 - accuracy: 0.4444\n",
            "Epoch 8/100\n",
            "2/2 [==============================] - 0s 128ms/step - loss: 1.1343 - accuracy: 0.8148\n",
            "Epoch 9/100\n",
            "2/2 [==============================] - 0s 132ms/step - loss: 1.1243 - accuracy: 0.5185\n",
            "Epoch 10/100\n",
            "2/2 [==============================] - 0s 127ms/step - loss: 0.9304 - accuracy: 0.7037\n",
            "Epoch 11/100\n",
            "2/2 [==============================] - 0s 129ms/step - loss: 0.6172 - accuracy: 0.8889\n",
            "Epoch 12/100\n",
            "2/2 [==============================] - 0s 134ms/step - loss: 0.6390 - accuracy: 0.8519\n",
            "Epoch 13/100\n",
            "2/2 [==============================] - 0s 131ms/step - loss: 0.2632 - accuracy: 1.0000\n",
            "Epoch 14/100\n",
            "2/2 [==============================] - 0s 129ms/step - loss: 0.2249 - accuracy: 0.9259\n",
            "Epoch 15/100\n",
            "2/2 [==============================] - 0s 131ms/step - loss: 0.3129 - accuracy: 0.8889\n",
            "Epoch 16/100\n",
            "2/2 [==============================] - 0s 129ms/step - loss: 0.3221 - accuracy: 0.8519\n",
            "Epoch 17/100\n",
            "2/2 [==============================] - 0s 131ms/step - loss: 0.1149 - accuracy: 0.9259\n",
            "Epoch 18/100\n",
            "2/2 [==============================] - 0s 126ms/step - loss: 0.0530 - accuracy: 1.0000\n",
            "Epoch 19/100\n",
            "2/2 [==============================] - 0s 131ms/step - loss: 0.0630 - accuracy: 0.9630\n",
            "Epoch 20/100\n",
            "2/2 [==============================] - 0s 132ms/step - loss: 0.0320 - accuracy: 1.0000\n",
            "Epoch 21/100\n",
            "2/2 [==============================] - 0s 131ms/step - loss: 0.0313 - accuracy: 1.0000\n",
            "Epoch 22/100\n",
            "2/2 [==============================] - 0s 128ms/step - loss: 0.0096 - accuracy: 1.0000\n",
            "Epoch 23/100\n",
            "2/2 [==============================] - 0s 132ms/step - loss: 0.0025 - accuracy: 1.0000\n",
            "Epoch 24/100\n",
            "2/2 [==============================] - 0s 133ms/step - loss: 0.0189 - accuracy: 1.0000\n",
            "Epoch 25/100\n",
            "2/2 [==============================] - 0s 134ms/step - loss: 0.0010 - accuracy: 1.0000\n",
            "Epoch 26/100\n",
            "2/2 [==============================] - 0s 134ms/step - loss: 0.0025 - accuracy: 1.0000\n",
            "Epoch 27/100\n",
            "2/2 [==============================] - 0s 135ms/step - loss: 0.0060 - accuracy: 1.0000\n",
            "Epoch 28/100\n",
            "2/2 [==============================] - 0s 135ms/step - loss: 0.0049 - accuracy: 1.0000\n",
            "Epoch 29/100\n",
            "2/2 [==============================] - 0s 135ms/step - loss: 0.0012 - accuracy: 1.0000\n",
            "Epoch 30/100\n",
            "2/2 [==============================] - 0s 140ms/step - loss: 6.1591e-04 - accuracy: 1.0000\n",
            "Epoch 31/100\n",
            "2/2 [==============================] - 0s 133ms/step - loss: 8.8247e-04 - accuracy: 1.0000\n",
            "Epoch 32/100\n",
            "2/2 [==============================] - 0s 132ms/step - loss: 6.9345e-04 - accuracy: 1.0000\n",
            "Epoch 33/100\n",
            "2/2 [==============================] - 0s 135ms/step - loss: 4.0284e-04 - accuracy: 1.0000\n",
            "Epoch 34/100\n",
            "2/2 [==============================] - 0s 137ms/step - loss: 2.9714e-04 - accuracy: 1.0000\n",
            "Epoch 35/100\n",
            "2/2 [==============================] - 0s 141ms/step - loss: 2.4441e-04 - accuracy: 1.0000\n",
            "Epoch 36/100\n",
            "2/2 [==============================] - 0s 134ms/step - loss: 2.0763e-04 - accuracy: 1.0000\n",
            "Epoch 37/100\n",
            "2/2 [==============================] - 0s 137ms/step - loss: 1.8956e-04 - accuracy: 1.0000\n",
            "Epoch 38/100\n",
            "2/2 [==============================] - 0s 134ms/step - loss: 1.8151e-04 - accuracy: 1.0000\n",
            "Epoch 39/100\n",
            "2/2 [==============================] - 0s 132ms/step - loss: 1.7316e-04 - accuracy: 1.0000\n",
            "Epoch 40/100\n",
            "2/2 [==============================] - 0s 130ms/step - loss: 1.6336e-04 - accuracy: 1.0000\n",
            "Epoch 41/100\n",
            "2/2 [==============================] - 0s 129ms/step - loss: 1.4746e-04 - accuracy: 1.0000\n",
            "Epoch 42/100\n",
            "2/2 [==============================] - 0s 134ms/step - loss: 1.3335e-04 - accuracy: 1.0000\n",
            "Epoch 43/100\n",
            "2/2 [==============================] - 0s 133ms/step - loss: 1.1569e-04 - accuracy: 1.0000\n",
            "Epoch 44/100\n",
            "2/2 [==============================] - 0s 134ms/step - loss: 1.0456e-04 - accuracy: 1.0000\n",
            "Epoch 45/100\n",
            "2/2 [==============================] - 0s 133ms/step - loss: 9.7514e-05 - accuracy: 1.0000\n",
            "Epoch 46/100\n",
            "2/2 [==============================] - 0s 133ms/step - loss: 8.2560e-05 - accuracy: 1.0000\n",
            "Epoch 47/100\n",
            "2/2 [==============================] - 0s 152ms/step - loss: 7.3446e-05 - accuracy: 1.0000\n",
            "Epoch 48/100\n",
            "2/2 [==============================] - 0s 138ms/step - loss: 6.8312e-05 - accuracy: 1.0000\n",
            "Epoch 49/100\n",
            "2/2 [==============================] - 0s 130ms/step - loss: 6.0647e-05 - accuracy: 1.0000\n",
            "Epoch 50/100\n",
            "2/2 [==============================] - 0s 152ms/step - loss: 5.3965e-05 - accuracy: 1.0000\n",
            "Epoch 51/100\n",
            "2/2 [==============================] - 0s 138ms/step - loss: 4.6413e-05 - accuracy: 1.0000\n",
            "Epoch 52/100\n",
            "2/2 [==============================] - 0s 135ms/step - loss: 4.2081e-05 - accuracy: 1.0000\n",
            "Epoch 53/100\n",
            "2/2 [==============================] - 0s 135ms/step - loss: 3.8030e-05 - accuracy: 1.0000\n",
            "Epoch 54/100\n",
            "2/2 [==============================] - 0s 135ms/step - loss: 3.4646e-05 - accuracy: 1.0000\n",
            "Epoch 55/100\n",
            "2/2 [==============================] - 0s 135ms/step - loss: 3.1685e-05 - accuracy: 1.0000\n",
            "Epoch 56/100\n",
            "2/2 [==============================] - 0s 132ms/step - loss: 2.9191e-05 - accuracy: 1.0000\n",
            "Epoch 57/100\n",
            "2/2 [==============================] - 0s 134ms/step - loss: 2.7077e-05 - accuracy: 1.0000\n",
            "Epoch 58/100\n",
            "2/2 [==============================] - 0s 133ms/step - loss: 2.5846e-05 - accuracy: 1.0000\n",
            "Epoch 59/100\n",
            "2/2 [==============================] - 0s 138ms/step - loss: 2.4089e-05 - accuracy: 1.0000\n",
            "Epoch 60/100\n",
            "2/2 [==============================] - 0s 127ms/step - loss: 2.2580e-05 - accuracy: 1.0000\n",
            "Epoch 61/100\n",
            "2/2 [==============================] - 0s 133ms/step - loss: 2.1326e-05 - accuracy: 1.0000\n",
            "Epoch 62/100\n",
            "2/2 [==============================] - 0s 136ms/step - loss: 2.0166e-05 - accuracy: 1.0000\n",
            "Epoch 63/100\n",
            "2/2 [==============================] - 0s 133ms/step - loss: 1.9181e-05 - accuracy: 1.0000\n",
            "Epoch 64/100\n",
            "2/2 [==============================] - 0s 134ms/step - loss: 1.8232e-05 - accuracy: 1.0000\n",
            "Epoch 65/100\n",
            "2/2 [==============================] - 0s 134ms/step - loss: 1.7469e-05 - accuracy: 1.0000\n",
            "Epoch 66/100\n",
            "2/2 [==============================] - 0s 135ms/step - loss: 1.6705e-05 - accuracy: 1.0000\n",
            "Epoch 67/100\n",
            "2/2 [==============================] - 0s 134ms/step - loss: 1.6030e-05 - accuracy: 1.0000\n",
            "Epoch 68/100\n",
            "2/2 [==============================] - 0s 134ms/step - loss: 1.5231e-05 - accuracy: 1.0000\n",
            "Epoch 69/100\n",
            "2/2 [==============================] - 0s 133ms/step - loss: 1.4630e-05 - accuracy: 1.0000\n",
            "Epoch 70/100\n",
            "2/2 [==============================] - 0s 134ms/step - loss: 1.4012e-05 - accuracy: 1.0000\n",
            "Epoch 71/100\n",
            "2/2 [==============================] - 0s 132ms/step - loss: 1.3686e-05 - accuracy: 1.0000\n",
            "Epoch 72/100\n",
            "2/2 [==============================] - 0s 135ms/step - loss: 1.3068e-05 - accuracy: 1.0000\n",
            "Epoch 73/100\n",
            "2/2 [==============================] - 0s 137ms/step - loss: 1.2490e-05 - accuracy: 1.0000\n",
            "Epoch 74/100\n",
            "2/2 [==============================] - 0s 142ms/step - loss: 1.1960e-05 - accuracy: 1.0000\n",
            "Epoch 75/100\n",
            "2/2 [==============================] - 0s 135ms/step - loss: 1.1276e-05 - accuracy: 1.0000\n",
            "Epoch 76/100\n",
            "2/2 [==============================] - 0s 136ms/step - loss: 1.0927e-05 - accuracy: 1.0000\n",
            "Epoch 77/100\n",
            "2/2 [==============================] - 0s 133ms/step - loss: 1.0313e-05 - accuracy: 1.0000\n",
            "Epoch 78/100\n",
            "2/2 [==============================] - 0s 138ms/step - loss: 9.9865e-06 - accuracy: 1.0000\n",
            "Epoch 79/100\n",
            "2/2 [==============================] - 0s 140ms/step - loss: 9.4788e-06 - accuracy: 1.0000\n",
            "Epoch 80/100\n",
            "2/2 [==============================] - 0s 135ms/step - loss: 9.0462e-06 - accuracy: 1.0000\n",
            "Epoch 81/100\n",
            "2/2 [==============================] - 0s 136ms/step - loss: 8.6003e-06 - accuracy: 1.0000\n",
            "Epoch 82/100\n",
            "2/2 [==============================] - 0s 138ms/step - loss: 8.1147e-06 - accuracy: 1.0000\n",
            "Epoch 83/100\n",
            "2/2 [==============================] - 0s 138ms/step - loss: 7.8675e-06 - accuracy: 1.0000\n",
            "Epoch 84/100\n",
            "2/2 [==============================] - 0s 133ms/step - loss: 7.3730e-06 - accuracy: 1.0000\n",
            "Epoch 85/100\n",
            "2/2 [==============================] - 0s 132ms/step - loss: 7.1346e-06 - accuracy: 1.0000\n",
            "Epoch 86/100\n",
            "2/2 [==============================] - 0s 131ms/step - loss: 6.7196e-06 - accuracy: 1.0000\n",
            "Epoch 87/100\n",
            "2/2 [==============================] - 0s 130ms/step - loss: 6.4018e-06 - accuracy: 1.0000\n",
            "Epoch 88/100\n",
            "2/2 [==============================] - 0s 133ms/step - loss: 6.0927e-06 - accuracy: 1.0000\n",
            "Epoch 89/100\n",
            "2/2 [==============================] - 0s 131ms/step - loss: 5.7660e-06 - accuracy: 1.0000\n",
            "Epoch 90/100\n",
            "2/2 [==============================] - 0s 133ms/step - loss: 5.5850e-06 - accuracy: 1.0000\n",
            "Epoch 91/100\n",
            "2/2 [==============================] - 0s 134ms/step - loss: 5.2760e-06 - accuracy: 1.0000\n",
            "Epoch 92/100\n",
            "2/2 [==============================] - 0s 132ms/step - loss: 4.9978e-06 - accuracy: 1.0000\n",
            "Epoch 93/100\n",
            "2/2 [==============================] - 0s 132ms/step - loss: 4.6446e-06 - accuracy: 1.0000\n",
            "Epoch 94/100\n",
            "2/2 [==============================] - 0s 134ms/step - loss: 4.4945e-06 - accuracy: 1.0000\n",
            "Epoch 95/100\n",
            "2/2 [==============================] - 0s 133ms/step - loss: 4.1811e-06 - accuracy: 1.0000\n",
            "Epoch 96/100\n",
            "2/2 [==============================] - 0s 133ms/step - loss: 3.9559e-06 - accuracy: 1.0000\n",
            "Epoch 97/100\n",
            "2/2 [==============================] - 0s 131ms/step - loss: 3.7793e-06 - accuracy: 1.0000\n",
            "Epoch 98/100\n",
            "2/2 [==============================] - 0s 132ms/step - loss: 3.5762e-06 - accuracy: 1.0000\n",
            "Epoch 99/100\n",
            "2/2 [==============================] - 0s 134ms/step - loss: 3.4217e-06 - accuracy: 1.0000\n",
            "Epoch 100/100\n",
            "2/2 [==============================] - 0s 134ms/step - loss: 3.2539e-06 - accuracy: 1.0000\n",
            "CPU times: user 24.7 s, sys: 814 ms, total: 25.5 s\n",
            "Wall time: 32.1 s\n"
          ]
        },
        {
          "data": {
            "text/plain": [
              "<keras.src.callbacks.History at 0x7991af6f7490>"
            ]
          },
          "execution_count": 90,
          "metadata": {},
          "output_type": "execute_result"
        }
      ],
      "source": [
        "#Ajustamos(\"Entrenamos\") el modelo al conjunto de datos\n",
        "ajuste = %time model.fit(image_list_train,y_train,epochs=100,batch_size=16)\n",
        "ajuste"
      ]
    },
    {
      "cell_type": "code",
      "execution_count": null,
      "metadata": {
        "colab": {
          "base_uri": "https://localhost:8080/"
        },
        "id": "dYJhtwVZFtEY",
        "outputId": "60c27769-4937-4bb8-8326-8f71cc9cb0a7"
      },
      "outputs": [
        {
          "name": "stdout",
          "output_type": "stream",
          "text": [
            "CPU times: user 5 µs, sys: 0 ns, total: 5 µs\n",
            "Wall time: 7.87 µs\n"
          ]
        },
        {
          "data": {
            "text/plain": [
              "array([[1, 0, 0, 0, 0],\n",
              "       [1, 0, 0, 0, 0],\n",
              "       [1, 0, 0, 0, 0],\n",
              "       [1, 0, 0, 0, 0],\n",
              "       [0, 0, 0, 0, 1],\n",
              "       [0, 0, 0, 0, 1],\n",
              "       [0, 1, 0, 0, 0],\n",
              "       [0, 0, 1, 0, 0],\n",
              "       [0, 0, 1, 0, 0],\n",
              "       [0, 0, 0, 0, 1],\n",
              "       [0, 1, 0, 0, 0],\n",
              "       [0, 0, 0, 1, 0],\n",
              "       [0, 0, 0, 1, 0],\n",
              "       [0, 0, 0, 1, 0],\n",
              "       [0, 0, 0, 1, 0],\n",
              "       [0, 1, 0, 0, 0],\n",
              "       [0, 0, 1, 0, 0],\n",
              "       [0, 1, 0, 0, 0],\n",
              "       [0, 0, 0, 0, 1],\n",
              "       [0, 0, 0, 1, 0],\n",
              "       [0, 0, 0, 1, 0],\n",
              "       [0, 0, 0, 0, 1],\n",
              "       [0, 0, 1, 0, 0],\n",
              "       [0, 1, 0, 0, 0],\n",
              "       [1, 0, 0, 0, 0],\n",
              "       [0, 0, 0, 0, 1],\n",
              "       [0, 0, 0, 0, 1]])"
            ]
          },
          "execution_count": 91,
          "metadata": {},
          "output_type": "execute_result"
        }
      ],
      "source": [
        "%time y_train"
      ]
    },
    {
      "cell_type": "code",
      "execution_count": null,
      "metadata": {
        "id": "eMHp7F8L2ApJ"
      },
      "outputs": [],
      "source": [
        "#Cambiamos el formato al conjunto de prueba\n",
        "image_list_test = np.array(image_list_test)\n",
        "y_test = np.array(y_test)"
      ]
    },
    {
      "cell_type": "code",
      "execution_count": null,
      "metadata": {
        "colab": {
          "base_uri": "https://localhost:8080/"
        },
        "id": "BgVZsICC9vxj",
        "outputId": "6897c60e-2b1c-4d71-e985-e2bb94c05800"
      },
      "outputs": [
        {
          "data": {
            "text/plain": [
              "array([[0, 1, 0, 0, 0],\n",
              "       [0, 1, 0, 0, 0],\n",
              "       [1, 0, 0, 0, 0],\n",
              "       [1, 0, 0, 0, 0],\n",
              "       [0, 0, 0, 1, 0],\n",
              "       [0, 0, 1, 0, 0],\n",
              "       [0, 0, 1, 0, 0],\n",
              "       [0, 0, 0, 0, 1],\n",
              "       [0, 0, 0, 0, 1],\n",
              "       [0, 0, 0, 1, 0]])"
            ]
          },
          "execution_count": 93,
          "metadata": {},
          "output_type": "execute_result"
        }
      ],
      "source": [
        "#Verificamos su forma\n",
        "y_test"
      ]
    },
    {
      "cell_type": "code",
      "execution_count": null,
      "metadata": {
        "colab": {
          "base_uri": "https://localhost:8080/"
        },
        "id": "LlSLfNRD98x5",
        "outputId": "9d1c0c0c-17d4-4913-d4b4-13089c775e81"
      },
      "outputs": [
        {
          "name": "stdout",
          "output_type": "stream",
          "text": [
            "1/1 [==============================] - 0s 73ms/step\n"
          ]
        }
      ],
      "source": [
        "#Usamos el modelo para predecir con el conjunto de prueba\n",
        "y_pred = model.predict(image_list_test) #Esto genera una salida predicha"
      ]
    },
    {
      "cell_type": "code",
      "execution_count": null,
      "metadata": {
        "colab": {
          "base_uri": "https://localhost:8080/"
        },
        "id": "CGPzEEj6_Nu0",
        "outputId": "853628ec-83bc-4406-ccfd-e4cb8949f3e1"
      },
      "outputs": [
        {
          "data": {
            "text/plain": [
              "array([[1.16504783e-11, 5.60096502e-02, 7.95626223e-01, 8.08515176e-02,\n",
              "        6.75126836e-02],\n",
              "       [4.25901847e-09, 9.97534990e-01, 1.02459035e-06, 2.46392540e-03,\n",
              "        4.18962331e-09],\n",
              "       [9.45489168e-01, 4.23287302e-02, 5.89172714e-06, 1.21754119e-02,\n",
              "        7.58369538e-07],\n",
              "       [1.00000000e+00, 5.24318212e-16, 3.95684651e-13, 3.47027772e-14,\n",
              "        9.55322627e-13],\n",
              "       [2.45392312e-05, 1.23171107e-04, 4.42958626e-05, 9.98372257e-01,\n",
              "        1.43584865e-03],\n",
              "       [1.15302704e-01, 1.48278734e-04, 5.95759273e-01, 2.36513908e-04,\n",
              "        2.88553268e-01],\n",
              "       [8.15767692e-07, 2.59612534e-05, 2.42017813e-05, 9.99948740e-01,\n",
              "        2.10822080e-07],\n",
              "       [5.42903015e-16, 5.88349482e-17, 1.04553192e-10, 1.00000000e+00,\n",
              "        1.36365019e-12],\n",
              "       [1.27500146e-11, 7.22257383e-08, 1.33581580e-05, 1.07567712e-05,\n",
              "        9.99975801e-01],\n",
              "       [1.71263739e-10, 2.31999077e-12, 1.39855611e-05, 9.99986053e-01,\n",
              "        2.11568918e-09]], dtype=float32)"
            ]
          },
          "execution_count": 95,
          "metadata": {},
          "output_type": "execute_result"
        }
      ],
      "source": [
        "#Revisamos el resultado\n",
        "y_pred"
      ]
    },
    {
      "cell_type": "code",
      "execution_count": null,
      "metadata": {
        "colab": {
          "base_uri": "https://localhost:8080/"
        },
        "id": "_3T_hP0p_PRS",
        "outputId": "988e96a3-0d5a-431c-d17c-f56207b8e567"
      },
      "outputs": [
        {
          "data": {
            "text/plain": [
              "array([[0., 0., 1., 0., 0.],\n",
              "       [0., 1., 0., 0., 0.],\n",
              "       [1., 0., 0., 0., 0.],\n",
              "       [1., 0., 0., 0., 0.],\n",
              "       [0., 0., 0., 1., 0.],\n",
              "       [0., 0., 1., 0., 0.],\n",
              "       [0., 0., 0., 1., 0.],\n",
              "       [0., 0., 0., 1., 0.],\n",
              "       [0., 0., 0., 0., 1.],\n",
              "       [0., 0., 0., 1., 0.]], dtype=float32)"
            ]
          },
          "execution_count": 96,
          "metadata": {},
          "output_type": "execute_result"
        }
      ],
      "source": [
        "#Redondeamos los resultados\n",
        "y_pred=np.round(y_pred)\n",
        "y_pred"
      ]
    },
    {
      "cell_type": "code",
      "execution_count": null,
      "metadata": {
        "colab": {
          "base_uri": "https://localhost:8080/"
        },
        "id": "Vg3bzFOx3TzI",
        "outputId": "c90536c8-6357-410d-eb5b-a44192885831"
      },
      "outputs": [
        {
          "name": "stdout",
          "output_type": "stream",
          "text": [
            "Accuracy: 0.70\n",
            "Precision: 0.70\n",
            "Recall: 0.70\n",
            "F1 Score: 0.70\n"
          ]
        }
      ],
      "source": [
        "#Se importan las librerias\n",
        "from sklearn.metrics import accuracy_score, precision_score, recall_score, f1_score\n",
        "import pandas as pd\n",
        "#Cambio de tipo de datos en caso de necesitarlo\n",
        "if y_test.dtype == object:\n",
        "    y_test1 = y_test.astype(int)\n",
        "if y_pred.dtype == object:\n",
        "    y_pred1 = y_pred.astype(int)\n",
        "y_test2 = pd.Series(y_test.ravel())\n",
        "y_pred2 = pd.Series(y_pred.ravel())\n",
        "\n",
        "# Accuracy\n",
        "accuracy = accuracy_score(y_test, y_pred)\n",
        "\n",
        "# Precision\n",
        "precision = precision_score(y_test, y_pred,average='micro')\n",
        "\n",
        "# Recall\n",
        "recall = recall_score(y_test, y_pred,average='micro')\n",
        "\n",
        "# F1 Score\n",
        "f1 = f1_score(y_test, y_pred,average='micro')\n",
        "\n",
        "# Imprime los resultados\n",
        "print(f\"Accuracy: {accuracy:.2f}\")\n",
        "print(f\"Precision: {precision:.2f}\")\n",
        "print(f\"Recall: {recall:.2f}\")\n",
        "print(f\"F1 Score: {f1:.2f}\")\n"
      ]
    },
    {
      "cell_type": "code",
      "execution_count": null,
      "metadata": {
        "colab": {
          "base_uri": "https://localhost:8080/"
        },
        "id": "CMSFKAXnQcFT",
        "outputId": "fdbf225f-adef-42c4-bacd-ab4d5795ef01"
      },
      "outputs": [
        {
          "data": {
            "text/plain": [
              "array([[0, 1, 0, 0, 0],\n",
              "       [0, 1, 0, 0, 0],\n",
              "       [1, 0, 0, 0, 0],\n",
              "       [1, 0, 0, 0, 0],\n",
              "       [0, 0, 0, 1, 0],\n",
              "       [0, 0, 1, 0, 0],\n",
              "       [0, 0, 1, 0, 0],\n",
              "       [0, 0, 0, 0, 1],\n",
              "       [0, 0, 0, 0, 1],\n",
              "       [0, 0, 0, 1, 0]])"
            ]
          },
          "execution_count": 98,
          "metadata": {},
          "output_type": "execute_result"
        }
      ],
      "source": [
        "y_test"
      ]
    },
    {
      "cell_type": "code",
      "execution_count": null,
      "metadata": {
        "colab": {
          "base_uri": "https://localhost:8080/"
        },
        "id": "2mfPQ2ljS-MJ",
        "outputId": "c1731d2c-230b-4d46-ad8d-f367a771800a"
      },
      "outputs": [
        {
          "data": {
            "text/plain": [
              "array([[0., 0., 1., 0., 0.],\n",
              "       [0., 1., 0., 0., 0.],\n",
              "       [1., 0., 0., 0., 0.],\n",
              "       [1., 0., 0., 0., 0.],\n",
              "       [0., 0., 0., 1., 0.],\n",
              "       [0., 0., 1., 0., 0.],\n",
              "       [0., 0., 0., 1., 0.],\n",
              "       [0., 0., 0., 1., 0.],\n",
              "       [0., 0., 0., 0., 1.],\n",
              "       [0., 0., 0., 1., 0.]], dtype=float32)"
            ]
          },
          "execution_count": 99,
          "metadata": {},
          "output_type": "execute_result"
        }
      ],
      "source": [
        "y_pred"
      ]
    },
    {
      "cell_type": "code",
      "execution_count": null,
      "metadata": {
        "colab": {
          "base_uri": "https://localhost:8080/"
        },
        "id": "SSJlanrKSyfn",
        "outputId": "8ccbd95e-f63b-45cf-ea3a-078ecbfcbd7b"
      },
      "outputs": [
        {
          "name": "stdout",
          "output_type": "stream",
          "text": [
            "Requirement already satisfied: imbalanced-learn in /usr/local/lib/python3.10/dist-packages (0.10.1)\n",
            "Requirement already satisfied: numpy>=1.17.3 in /usr/local/lib/python3.10/dist-packages (from imbalanced-learn) (1.25.2)\n",
            "Requirement already satisfied: scipy>=1.3.2 in /usr/local/lib/python3.10/dist-packages (from imbalanced-learn) (1.11.4)\n",
            "Requirement already satisfied: scikit-learn>=1.0.2 in /usr/local/lib/python3.10/dist-packages (from imbalanced-learn) (1.2.2)\n",
            "Requirement already satisfied: joblib>=1.1.1 in /usr/local/lib/python3.10/dist-packages (from imbalanced-learn) (1.4.2)\n",
            "Requirement already satisfied: threadpoolctl>=2.0.0 in /usr/local/lib/python3.10/dist-packages (from imbalanced-learn) (3.5.0)\n"
          ]
        }
      ],
      "source": [
        "!pip install imbalanced-learn"
      ]
    },
    {
      "cell_type": "code",
      "execution_count": null,
      "metadata": {
        "colab": {
          "base_uri": "https://localhost:8080/",
          "height": 472
        },
        "id": "nbblRXCSPP1H",
        "outputId": "63193e53-19b9-4e5e-b905-ae95ae5e21be"
      },
      "outputs": [
        {
          "data": {
            "image/png": "[encoded data removed]",
            "text/plain": [
              "<Figure size 640x480 with 2 Axes>"
            ]
          },
          "metadata": {},
          "output_type": "display_data"
        }
      ],
      "source": [
        "import numpy as np\n",
        "from sklearn.metrics import confusion_matrix, ConfusionMatrixDisplay\n",
        "import matplotlib.pyplot as plt\n",
        "# Calcular la matriz de confusión\n",
        "y_test_labels = np.argmax(y_test, axis=1)\n",
        "y_pred_labels = np.argmax(y_pred, axis=1)\n",
        "cm = confusion_matrix(y_test_labels, y_pred_labels)\n",
        "\n",
        "# Visualizar la matriz de confusión\n",
        "disp = ConfusionMatrixDisplay(confusion_matrix=cm, display_labels=['Clima', 'Persona', 'Pista','Aeronave','Vehiculo'])\n",
        "disp.plot(cmap=plt.cm.Blues)\n",
        "plt.title('Matriz de Confusión Global')\n",
        "plt.show()"
      ]
    },
    {
      "cell_type": "code",
      "execution_count": null,
      "metadata": {
        "colab": {
          "base_uri": "https://localhost:8080/"
        },
        "id": "M8pz7tUtfSK5",
        "outputId": "3cb8a78e-ea22-4be7-ecb0-fb76ea072c16"
      },
      "outputs": [
        {
          "name": "stderr",
          "output_type": "stream",
          "text": [
            "/usr/local/lib/python3.10/dist-packages/keras/src/engine/training.py:3103: UserWarning: You are saving your model as an HDF5 file via `model.save()`. This file format is considered legacy. We recommend using instead the native Keras format, e.g. `model.save('my_model.keras')`.\n",
            "  saving_api.save_model(\n"
          ]
        }
      ],
      "source": [
        "# prompt: como guardo el modelo\n",
        "\n",
        "model.save('/content/drive/MyDrive/MachineLearning/modelo_entrenado.h5')\n"
      ]
    }
  ],
  "metadata": {
    "accelerator": "GPU",
    "colab": {
      "gpuType": "T4",
      "provenance": []
    },
    "kernelspec": {
      "display_name": "Python 3",
      "name": "python3"
    },
    "language_info": {
      "codemirror_mode": {
        "name": "ipython",
        "version": 3
      },
      "file_extension": ".py",
      "mimetype": "text/x-python",
      "name": "python",
      "nbconvert_exporter": "python",
      "pygments_lexer": "ipython3",
      "version": "3.12.4"
    }
  },
  "nbformat": 4,
  "nbformat_minor": 0
}
